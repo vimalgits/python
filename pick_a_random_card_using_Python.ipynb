{
  "nbformat": 4,
  "nbformat_minor": 0,
  "metadata": {
    "colab": {
      "provenance": [],
      "authorship_tag": "ABX9TyM6RYJ/EwdiwEDkrn98v7KH",
      "include_colab_link": true
    },
    "kernelspec": {
      "name": "python3",
      "display_name": "Python 3"
    },
    "language_info": {
      "name": "python"
    }
  },
  "cells": [
    {
      "cell_type": "markdown",
      "metadata": {
        "id": "view-in-github",
        "colab_type": "text"
      },
      "source": [
        "<a href=\"https://colab.research.google.com/github/vimalgits/python/blob/main/pick_a_random_card_using_Python.ipynb\" target=\"_parent\"><img src=\"https://colab.research.google.com/assets/colab-badge.svg\" alt=\"Open In Colab\"/></a>"
      ]
    },
    {
      "cell_type": "code",
      "execution_count": 2,
      "metadata": {
        "colab": {
          "base_uri": "https://localhost:8080/"
        },
        "id": "3004Fz3RaXfd",
        "outputId": "f0aad62a-976b-4652-edc0-3172b65d6012"
      },
      "outputs": [
        {
          "output_type": "stream",
          "name": "stdout",
          "text": [
            "The ['Ace'] of ['Spades']\n"
          ]
        }
      ],
      "source": [
        "import random\n",
        "cards = [\"Diamonds\", \"Spades\", \"Hearts\", \"Clubs\"]\n",
        "ranks = [2, 3, 4, 5, 6, 7, 8, 9, 10, \"Jack\", \"Queen\", \"King\", \"Ace\"]\n",
        "\n",
        "def pick_a_card():\n",
        "    card = random.choices(cards)\n",
        "    rank = random.choices(ranks)\n",
        "    return(f\"The {rank} of {card}\")\n",
        "\n",
        "print(pick_a_card())"
      ]
    }
  ]
}