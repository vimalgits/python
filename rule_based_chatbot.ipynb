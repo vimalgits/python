{
  "nbformat": 4,
  "nbformat_minor": 0,
  "metadata": {
    "colab": {
      "provenance": [],
      "authorship_tag": "ABX9TyNsGbB9xjEWPo0Icpex/ys8",
      "include_colab_link": true
    },
    "kernelspec": {
      "name": "python3",
      "display_name": "Python 3"
    },
    "language_info": {
      "name": "python"
    }
  },
  "cells": [
    {
      "cell_type": "markdown",
      "metadata": {
        "id": "view-in-github",
        "colab_type": "text"
      },
      "source": [
        "<a href=\"https://colab.research.google.com/github/vimalgits/python/blob/main/rule_based_chatbot.ipynb\" target=\"_parent\"><img src=\"https://colab.research.google.com/assets/colab-badge.svg\" alt=\"Open In Colab\"/></a>"
      ]
    },
    {
      "cell_type": "code",
      "execution_count": null,
      "metadata": {
        "id": "tF4BkfirrzFl"
      },
      "outputs": [],
      "source": [
        "import re\n",
        "import random"
      ]
    },
    {
      "cell_type": "code",
      "source": [
        "class Rulebot:\n",
        "  ###potentioal negetive responses\n",
        "  negetive_res= (\"no\",\"nope\",\"na\",\"nah\",\"not a chance\",\"sorry\",\"naw\")\n",
        "  ###Exit conversation\n",
        "  exit_commands=(\"quit\",\"pause\",\"exit\",\"goodbye\",\"bye\",\"later\")\n",
        "  ###random starter questions\n",
        "  random_starter_que=(\"why are you here ?\",\n",
        "                      \"are there any students like you\",\n",
        "                      \"what do you consume for sustenance?\",\n",
        "                      \"is there intelligent life on this planet?\",\n",
        "                      \"does earth have leaders?\")\n",
        "  def __init__(self):\n",
        "    self.alienbabble={'decribe_planet_intent': r'.*\\s*your planet.*',\n",
        "                      'answer_why_intent': r'why\\sare*',\n",
        "                      'about_vimal': r'.*\\s*vimal',}\n",
        "\n",
        "  def greet(self):\n",
        "    self.name =input(\"whats your name?\\n\")\n",
        "    will_help =input(f\"Hi {self.name}, i am vimal.will you help me learn about you?\\n\")\n",
        "    if will_help in self.negetive_res:\n",
        "      print(\"ok,have a nice day!\")\n",
        "      return\n",
        "    self.chat()\n",
        "  def make_exit(self,reply):\n",
        "    for command in self.exit_commands:\n",
        "      if reply == command:\n",
        "        print(\"okay,have a nice day!\")\n",
        "        return True\n",
        "  def chat (self):\n",
        "    reply= input(random.choice(self.random_starter_que)).lower()\n",
        "    while not self.make_exit(reply):\n",
        "      reply =input(self.match_reply(reply))\n",
        "  def match_reply(self,reply):\n",
        "    for key, value in self.alienbabble.items():\n",
        "      intent = key\n",
        "      regex_pattern = value\n",
        "      found_match = re. match(regex_pattern,reply)\n",
        "      if found_match and intent == 'decribe_planet_intent':\n",
        "        return self.describe_planet_intent()\n",
        "      elif found_match and intent == 'answer_why_intent':\n",
        "        return self.answer_why_intent()\n",
        "      elif found_match and intent == 'about_vimal':\n",
        "        return self.about_vimal()\n",
        "    if not found_match:\n",
        "      return self.no_match_intent()\n",
        "\n",
        "  def decribe_planet_intent(self):\n",
        "    responses=(\"my planet is a great planet\\n\")\n",
        "    return random.choice(responses)\n",
        "  \n",
        "  def answer_why_intent(self):\n",
        "    responses=(\"i come in peace\\n\")\n",
        "    return random.choice(responses)\n",
        "\n",
        "  def about_vimal(self):\n",
        "    responses=(\"vimal is great person to talk\\n\")\n",
        "    return random.choice(responses)\n",
        "  \n",
        "  def no_match_intent(self):\n",
        "    responses=(\"please tell me more\\n\",\"tell me more\\n\",\"why do you say that?\\n\",\"can you elaborate\\n\",\"interesting,can you tell me more?\\n\",\"i see,how do you think?\\n\",\"why?\")\n",
        "    return random.choice(responses)\n",
        "  \n",
        "\n",
        "AlienBot = Rulebot()\n",
        "AlienBot.greet()\n",
        "  \n",
        "\n",
        "  \n",
        "\n",
        "\n",
        "\n"
      ],
      "metadata": {
        "colab": {
          "base_uri": "https://localhost:8080/"
        },
        "id": "PkLzbVySsXct",
        "outputId": "e0380ef7-f2eb-4cca-ff64-0af0a192c628"
      },
      "execution_count": null,
      "outputs": [
        {
          "output_type": "stream",
          "name": "stdout",
          "text": [
            "whats your name?\n",
            "sorry\n",
            "Hi sorry, i am vimal.will you help me learn about you?\n",
            "exit\n",
            "why are you here ?exit\n",
            "okay,have a nice day!\n"
          ]
        }
      ]
    },
    {
      "cell_type": "code",
      "source": [],
      "metadata": {
        "id": "IgJ5tgKDsXno"
      },
      "execution_count": null,
      "outputs": []
    },
    {
      "cell_type": "code",
      "source": [],
      "metadata": {
        "id": "eR-b653GsXq4"
      },
      "execution_count": null,
      "outputs": []
    }
  ]
}